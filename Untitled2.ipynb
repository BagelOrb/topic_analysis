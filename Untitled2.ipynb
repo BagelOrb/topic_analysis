{
 "cells": [
  {
   "cell_type": "code",
   "execution_count": 3,
   "id": "945ca211-67aa-49fe-b176-8c3b7fb04f5e",
   "metadata": {
    "execution": {
     "iopub.execute_input": "2023-03-01T06:54:29.433494Z",
     "iopub.status.busy": "2023-03-01T06:54:29.432985Z",
     "iopub.status.idle": "2023-03-01T06:54:29.436577Z",
     "shell.execute_reply": "2023-03-01T06:54:29.436150Z",
     "shell.execute_reply.started": "2023-03-01T06:54:29.433476Z"
    },
    "tags": []
   },
   "outputs": [
    {
     "data": {
      "text/plain": [
       "True"
      ]
     },
     "execution_count": 3,
     "metadata": {},
     "output_type": "execute_result"
    }
   ],
   "source": [
    "bool([1])\n"
   ]
  }
 ],
 "metadata": {
  "kernelspec": {
   "display_name": "Python 3 (ipykernel)",
   "language": "python",
   "name": "python3"
  },
  "language_info": {
   "codemirror_mode": {
    "name": "ipython",
    "version": 3
   },
   "file_extension": ".py",
   "mimetype": "text/x-python",
   "name": "python",
   "nbconvert_exporter": "python",
   "pygments_lexer": "ipython3",
   "version": "3.10.8"
  }
 },
 "nbformat": 4,
 "nbformat_minor": 5
}
