{
 "cells": [
  {
   "cell_type": "code",
   "execution_count": 1,
   "id": "cb9a6b39-567d-4a54-a5f2-3d3ebe3bcad5",
   "metadata": {
    "execution": {
     "iopub.execute_input": "2023-03-01T06:59:27.546656Z",
     "iopub.status.busy": "2023-03-01T06:59:27.546461Z",
     "iopub.status.idle": "2023-03-01T06:59:28.772252Z",
     "shell.execute_reply": "2023-03-01T06:59:28.771841Z",
     "shell.execute_reply.started": "2023-03-01T06:59:27.546643Z"
    },
    "tags": []
   },
   "outputs": [
    {
     "data": {
      "text/plain": [
       "[\"@switchfoot http://twitpic.com/2y1zl - Awww, that's a bummer.  You shoulda got David Carr of Third Day to do it. ;D\",\n",
       " \"is upset that he can't update his Facebook by texting it... and might cry as a result  School today also. Blah!\",\n",
       " '@Kenichan I dived many times for the ball. Managed to save 50%  The rest go out of bounds',\n",
       " 'my whole body feels itchy and like its on fire ']"
      ]
     },
     "execution_count": 1,
     "metadata": {},
     "output_type": "execute_result"
    }
   ],
   "source": [
    "import csv\n",
    "\n",
    "# Read the CSV file and extract the text data\n",
    "lines = []\n",
    "with open('ciphix NLP/training.1600000.processed.noemoticon.csv', 'r', encoding='ISO-8859-1') as file:\n",
    "    reader = csv.reader(file)\n",
    "    for line in reader:\n",
    "        lines.append(line[5])  # Column 5 is the actual tweet\n",
    "        \n",
    "lines[0:4]"
   ]
  },
  {
   "cell_type": "code",
   "execution_count": 3,
   "id": "b658d113-d6ec-4207-8aa5-54794d6aae16",
   "metadata": {
    "execution": {
     "iopub.execute_input": "2023-03-01T06:59:51.164447Z",
     "iopub.status.busy": "2023-03-01T06:59:51.164239Z",
     "iopub.status.idle": "2023-03-01T07:02:41.848000Z",
     "shell.execute_reply": "2023-03-01T07:02:41.847549Z",
     "shell.execute_reply.started": "2023-03-01T06:59:51.164433Z"
    },
    "tags": []
   },
   "outputs": [
    {
     "name": "stderr",
     "output_type": "stream",
     "text": [
      "[nltk_data] Downloading package stopwords to /home/tk/nltk_data...\n",
      "[nltk_data]   Package stopwords is already up-to-date!\n"
     ]
    }
   ],
   "source": [
    "import sanitization\n",
    "\n",
    "tokens = sanitization.sanitize_tokenize(lines)"
   ]
  },
  {
   "cell_type": "code",
   "execution_count": null,
   "id": "d4d2be1c-fb06-448b-8508-7365f9d527a6",
   "metadata": {
    "tags": []
   },
   "outputs": [],
   "source": [
    "from nltk.probability import FreqDist\n",
    "\n",
    "fdist = FreqDist()\n",
    "for line in lines:\n",
    "    for word in line:\n",
    "        fdist[word] += 1\n",
    "        \n",
    "import csv\n",
    "\n",
    "with open('ciphix NLP/freqs.csv', 'w') as file:\n",
    "    for word, frq in fdist."
   ]
  },
  {
   "cell_type": "code",
   "execution_count": 4,
   "id": "e9da32df-b86f-4f47-8371-5901b28eb782",
   "metadata": {
    "execution": {
     "iopub.execute_input": "2023-03-01T07:02:46.637106Z",
     "iopub.status.busy": "2023-03-01T07:02:46.636984Z",
     "iopub.status.idle": "2023-03-01T07:02:46.644984Z",
     "shell.execute_reply": "2023-03-01T07:02:46.644509Z",
     "shell.execute_reply.started": "2023-03-01T07:02:46.637095Z"
    },
    "tags": []
   },
   "outputs": [
    {
     "ename": "ValueError",
     "evalue": "not enough values to unpack (expected 2, got 1)",
     "output_type": "error",
     "traceback": [
      "\u001b[0;31m---------------------------------------------------------------------------\u001b[0m",
      "\u001b[0;31mValueError\u001b[0m                                Traceback (most recent call last)",
      "Cell \u001b[0;32mIn[4], line 6\u001b[0m\n\u001b[1;32m      3\u001b[0m fdist \u001b[38;5;241m=\u001b[39m FreqDist()\n\u001b[1;32m      4\u001b[0m fdist[\u001b[38;5;124m'\u001b[39m\u001b[38;5;124mq\u001b[39m\u001b[38;5;124m'\u001b[39m] \u001b[38;5;241m+\u001b[39m\u001b[38;5;241m=\u001b[39m \u001b[38;5;241m1\u001b[39m\n\u001b[0;32m----> 6\u001b[0m \u001b[38;5;28;01mfor\u001b[39;00m word, frq \u001b[38;5;129;01min\u001b[39;00m fdist:\n\u001b[1;32m      7\u001b[0m     \u001b[38;5;28mprint\u001b[39m(word, frq)\n",
      "\u001b[0;31mValueError\u001b[0m: not enough values to unpack (expected 2, got 1)"
     ]
    }
   ],
   "source": [
    "from nltk.probability import FreqDist\n",
    "\n",
    "fdist = FreqDist()\n",
    "fdist['q'] += 1\n",
    "\n",
    "for word, frq in fdist:\n",
    "    print(word, frq)"
   ]
  }
 ],
 "metadata": {
  "kernelspec": {
   "display_name": "Python 3 (ipykernel)",
   "language": "python",
   "name": "python3"
  },
  "language_info": {
   "codemirror_mode": {
    "name": "ipython",
    "version": 3
   },
   "file_extension": ".py",
   "mimetype": "text/x-python",
   "name": "python",
   "nbconvert_exporter": "python",
   "pygments_lexer": "ipython3",
   "version": "3.10.8"
  }
 },
 "nbformat": 4,
 "nbformat_minor": 5
}
