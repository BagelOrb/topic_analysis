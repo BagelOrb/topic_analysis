{
 "cells": [
  {
   "cell_type": "code",
   "execution_count": 6,
   "id": "cb9a6b39-567d-4a54-a5f2-3d3ebe3bcad5",
   "metadata": {
    "execution": {
     "iopub.execute_input": "2023-03-01T07:18:23.495511Z",
     "iopub.status.busy": "2023-03-01T07:18:23.495333Z",
     "iopub.status.idle": "2023-03-01T07:18:24.641342Z",
     "shell.execute_reply": "2023-03-01T07:18:24.640901Z",
     "shell.execute_reply.started": "2023-03-01T07:18:23.495499Z"
    },
    "tags": []
   },
   "outputs": [
    {
     "data": {
      "text/plain": [
       "[\"@switchfoot http://twitpic.com/2y1zl - Awww, that's a bummer.  You shoulda got David Carr of Third Day to do it. ;D\",\n",
       " \"is upset that he can't update his Facebook by texting it... and might cry as a result  School today also. Blah!\",\n",
       " '@Kenichan I dived many times for the ball. Managed to save 50%  The rest go out of bounds',\n",
       " 'my whole body feels itchy and like its on fire ']"
      ]
     },
     "execution_count": 6,
     "metadata": {},
     "output_type": "execute_result"
    }
   ],
   "source": [
    "import csv\n",
    "\n",
    "# Read the CSV file and extract the text data\n",
    "lines = []\n",
    "#  Downloaded from https://www.kaggle.com/datasets/kazanova/sentiment140/discussion/60512\n",
    "with open('ciphix NLP/training.1600000.processed.noemoticon.csv', 'r', encoding='ISO-8859-1') as file:\n",
    "    reader = csv.reader(file)\n",
    "    for line in reader:\n",
    "        lines.append(line[5])  # Column 5 is the actual tweet\n",
    "        \n",
    "lines[0:4]"
   ]
  },
  {
   "cell_type": "code",
   "execution_count": 7,
   "id": "b658d113-d6ec-4207-8aa5-54794d6aae16",
   "metadata": {
    "execution": {
     "iopub.execute_input": "2023-03-01T07:18:26.441336Z",
     "iopub.status.busy": "2023-03-01T07:18:26.440831Z",
     "iopub.status.idle": "2023-03-01T07:21:16.580047Z",
     "shell.execute_reply": "2023-03-01T07:21:16.579491Z",
     "shell.execute_reply.started": "2023-03-01T07:18:26.441318Z"
    },
    "tags": []
   },
   "outputs": [
    {
     "name": "stderr",
     "output_type": "stream",
     "text": [
      "[nltk_data] Downloading package stopwords to /home/tk/nltk_data...\n",
      "[nltk_data]   Package stopwords is already up-to-date!\n"
     ]
    }
   ],
   "source": [
    "import sanitization\n",
    "\n",
    "tokens = sanitization.sanitize_tokenize(lines)"
   ]
  },
  {
   "cell_type": "code",
   "execution_count": 8,
   "id": "f90290c5-9e65-46c1-8ad4-14d169f016b2",
   "metadata": {
    "execution": {
     "iopub.execute_input": "2023-03-01T08:11:38.423992Z",
     "iopub.status.busy": "2023-03-01T08:11:38.423696Z",
     "iopub.status.idle": "2023-03-01T08:11:41.178858Z",
     "shell.execute_reply": "2023-03-01T08:11:41.178321Z",
     "shell.execute_reply.started": "2023-03-01T08:11:38.423977Z"
    },
    "tags": []
   },
   "outputs": [],
   "source": [
    "from nltk.probability import FreqDist\n",
    "\n",
    "fdist = FreqDist()\n",
    "for line in tokens:\n",
    "    for word in line:\n",
    "        fdist[word] += 1\n",
    "        "
   ]
  },
  {
   "cell_type": "code",
   "execution_count": 28,
   "id": "f95353f7-b782-4b1c-96ee-fed19f68f100",
   "metadata": {
    "execution": {
     "iopub.execute_input": "2023-03-01T08:26:54.827780Z",
     "iopub.status.busy": "2023-03-01T08:26:54.827599Z",
     "iopub.status.idle": "2023-03-01T08:26:54.987182Z",
     "shell.execute_reply": "2023-03-01T08:26:54.986600Z",
     "shell.execute_reply.started": "2023-03-01T08:26:54.827768Z"
    },
    "tags": []
   },
   "outputs": [],
   "source": [
    "sorted_by_freq = sorted(list(fdist), key=lambda term: - fdist[term])\n",
    "\n",
    "with open('ciphix NLP/freqs.csv', 'w') as file:\n",
    "    for word in sorted_by_freq:\n",
    "        file.write(word + '\\n')"
   ]
  },
  {
   "cell_type": "code",
   "execution_count": 5,
   "id": "9db35e43-4582-4711-abcc-991d679539f4",
   "metadata": {
    "execution": {
     "iopub.execute_input": "2023-03-01T07:18:04.474618Z",
     "iopub.status.busy": "2023-03-01T07:18:04.474412Z",
     "iopub.status.idle": "2023-03-01T07:18:04.484312Z",
     "shell.execute_reply": "2023-03-01T07:18:04.483807Z",
     "shell.execute_reply.started": "2023-03-01T07:18:04.474605Z"
    },
    "tags": []
   },
   "outputs": [
    {
     "ename": "NameError",
     "evalue": "name 'tokens' is not defined",
     "output_type": "error",
     "traceback": [
      "\u001b[0;31m---------------------------------------------------------------------------\u001b[0m",
      "\u001b[0;31mNameError\u001b[0m                                 Traceback (most recent call last)",
      "Cell \u001b[0;32mIn[5], line 4\u001b[0m\n\u001b[1;32m      1\u001b[0m \u001b[38;5;28;01mfrom\u001b[39;00m \u001b[38;5;21;01mnltk\u001b[39;00m\u001b[38;5;21;01m.\u001b[39;00m\u001b[38;5;21;01mprobability\u001b[39;00m \u001b[38;5;28;01mimport\u001b[39;00m FreqDist\n\u001b[1;32m      3\u001b[0m fdist \u001b[38;5;241m=\u001b[39m FreqDist()\n\u001b[0;32m----> 4\u001b[0m \u001b[38;5;28;01mfor\u001b[39;00m line \u001b[38;5;129;01min\u001b[39;00m \u001b[43mtokens\u001b[49m:\n\u001b[1;32m      5\u001b[0m     \u001b[38;5;28;01mfor\u001b[39;00m word \u001b[38;5;129;01min\u001b[39;00m line:\n\u001b[1;32m      6\u001b[0m         fdist[word] \u001b[38;5;241m+\u001b[39m\u001b[38;5;241m=\u001b[39m \u001b[38;5;241m1\u001b[39m\n",
      "\u001b[0;31mNameError\u001b[0m: name 'tokens' is not defined"
     ]
    }
   ],
   "source": [
    "import csv\n",
    "\n",
    "with open('ciphix NLP/freqs.csv', 'w') as file:\n",
    "    for word in fdist:\n",
    "        file.writeline(f\"{word}, {fdist.freq(word)}\")"
   ]
  },
  {
   "cell_type": "code",
   "execution_count": 24,
   "id": "e9da32df-b86f-4f47-8371-5901b28eb782",
   "metadata": {
    "execution": {
     "iopub.execute_input": "2023-03-01T08:18:29.019118Z",
     "iopub.status.busy": "2023-03-01T08:18:29.018909Z",
     "iopub.status.idle": "2023-03-01T08:18:29.022072Z",
     "shell.execute_reply": "2023-03-01T08:18:29.021497Z",
     "shell.execute_reply.started": "2023-03-01T08:18:29.019101Z"
    },
    "tags": []
   },
   "outputs": [
    {
     "name": "stdout",
     "output_type": "stream",
     "text": [
      "time 64883\n",
      "love 67505\n",
      "work 68006\n",
      "today 68146\n",
      "got 70470\n",
      "go 77958\n",
      "like 79522\n",
      "get 86003\n",
      "good 90647\n"
     ]
    }
   ],
   "source": [
    "for term in sorted_by_freq[-10:-1]:\n",
    "    print(term, fdist[term])\n",
    "    "
   ]
  },
  {
   "cell_type": "code",
   "execution_count": 11,
   "id": "5d6dda45-7c30-4bc9-942e-1ec0b132a8bf",
   "metadata": {
    "execution": {
     "iopub.execute_input": "2023-03-01T11:29:48.517972Z",
     "iopub.status.busy": "2023-03-01T11:29:48.517814Z",
     "iopub.status.idle": "2023-03-01T11:29:48.521005Z",
     "shell.execute_reply": "2023-03-01T11:29:48.520556Z",
     "shell.execute_reply.started": "2023-03-01T11:29:48.517961Z"
    },
    "tags": []
   },
   "outputs": [
    {
     "name": "stdout",
     "output_type": "stream",
     "text": [
      "qshdshd 3\n",
      "qwe 2\n",
      "fs 1\n"
     ]
    }
   ],
   "source": [
    "from nltk.probability import FreqDist\n",
    "\n",
    "fdist = FreqDist()\n",
    "fdist['qwe'] += 2\n",
    "fdist['fs'] += 1\n",
    "fdist['qshdshd'] += 3\n",
    "for term in fdist:\n",
    "    print(term, fdist[term])"
   ]
  }
 ],
 "metadata": {
  "kernelspec": {
   "display_name": "Python 3 (ipykernel)",
   "language": "python",
   "name": "python3"
  },
  "language_info": {
   "codemirror_mode": {
    "name": "ipython",
    "version": 3
   },
   "file_extension": ".py",
   "mimetype": "text/x-python",
   "name": "python",
   "nbconvert_exporter": "python",
   "pygments_lexer": "ipython3",
   "version": "3.10.8"
  }
 },
 "nbformat": 4,
 "nbformat_minor": 5
}
